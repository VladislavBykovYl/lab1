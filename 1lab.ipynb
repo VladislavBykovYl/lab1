{
  "nbformat": 4,
  "nbformat_minor": 0,
  "metadata": {
    "colab": {
      "name": "1lab.ipynb",
      "provenance": [],
      "collapsed_sections": [],
      "authorship_tag": "ABX9TyMwmNXTrMBnZp7Q3DFO0rFt",
      "include_colab_link": true
    },
    "kernelspec": {
      "name": "python3",
      "display_name": "Python 3"
    }
  },
  "cells": [
    {
      "cell_type": "markdown",
      "metadata": {
        "id": "view-in-github",
        "colab_type": "text"
      },
      "source": [
        "<a href=\"https://colab.research.google.com/github/VladislavBykovYl/lab1/blob/main/1lab.ipynb\" target=\"_parent\"><img src=\"https://colab.research.google.com/assets/colab-badge.svg\" alt=\"Open In Colab\"/></a>"
      ]
    },
    {
      "cell_type": "markdown",
      "metadata": {
        "id": "SBek2Xd8i1vX"
      },
      "source": [
        "Быков Владислав Алексеевич КИ19-21Б"
      ]
    },
    {
      "cell_type": "code",
      "metadata": {
        "id": "GJk_2u12iviO"
      },
      "source": [
        "print('Привет, мир!')"
      ],
      "execution_count": null,
      "outputs": []
    }
  ]
}